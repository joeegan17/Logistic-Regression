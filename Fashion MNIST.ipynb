{
 "cells": [
  {
   "cell_type": "code",
   "execution_count": 1,
   "metadata": {},
   "outputs": [],
   "source": [
    "import numpy as np\n",
    "import pandas as pd\n",
    "import matplotlib.pyplot as plt\n",
    "import seaborn as sns\n"
   ]
  },
  {
   "cell_type": "code",
   "execution_count": 10,
   "metadata": {},
   "outputs": [],
   "source": [
    "from sklearn.metrics import confusion_matrix"
   ]
  },
  {
   "cell_type": "code",
   "execution_count": 11,
   "metadata": {},
   "outputs": [],
   "source": [
    "######## PART TWO ############\n",
    "# Trousers are 1, Dresses are 0"
   ]
  },
  {
   "cell_type": "code",
   "execution_count": 12,
   "metadata": {},
   "outputs": [],
   "source": [
    "xc_train = np.loadtxt(\"C:\\\\Users\\\\Joe\\Desktop\\\\Tufts Fall 2022\\\\CS 135\\\\project01\\\\data_trouser_dress\\\\troudress_train_x.csv\", delimiter=',', skiprows=1)\n",
    "xc_test = np.loadtxt(\"C:\\\\Users\\\\Joe\\Desktop\\\\Tufts Fall 2022\\\\CS 135\\\\project01\\\\data_trouser_dress\\\\troudress_test_x.csv\", delimiter=',', skiprows=1)\n",
    "yc_train = np.loadtxt(\"C:\\\\Users\\\\Joe\\Desktop\\\\Tufts Fall 2022\\\\CS 135\\\\project01\\\\data_trouser_dress\\\\troudress_train_y.csv\", delimiter=',', skiprows=1)"
   ]
  },
  {
   "cell_type": "code",
   "execution_count": 13,
   "metadata": {},
   "outputs": [
    {
     "name": "stdout",
     "output_type": "stream",
     "text": [
      "XC-TRAIN (12000, 784)\n",
      "XC_TeST (2000, 784)\n",
      "YC_Train (12000,)\n"
     ]
    }
   ],
   "source": [
    "print('XC-TRAIN', xc_train.shape)\n",
    "print('XC_TeST', xc_test.shape)\n",
    "print('YC_Train', yc_train.shape)"
   ]
  },
  {
   "cell_type": "code",
   "execution_count": 14,
   "metadata": {},
   "outputs": [],
   "source": [
    "def calc_confusion_matrix_for_threshold(ytrue_N, yproba1_N, thresh=0.5):\n",
    "    ''' Compute the confusion matrix for a given probabilistic classifier and threshold\n",
    "    \n",
    "    Args\n",
    "    ----\n",
    "    ytrue_N : 1D array of floats\n",
    "        Each entry represents the binary value (0 or 1) of 'true' label of one example\n",
    "        One entry per example in current dataset\n",
    "    yproba1_N : 1D array of floats\n",
    "        Each entry represents a probability (between 0 and 1) that correct label is positive (1)\n",
    "        One entry per example in current dataset\n",
    "        Needs to be same size as ytrue_N\n",
    "    thresh : float\n",
    "        Scalar threshold for converting probabilities into hard decisions\n",
    "        Calls an example \"positive\" if yproba1 >= thresh\n",
    "        Default value reflects a majority-classification approach (class is the one that gets\n",
    "        highest probability)\n",
    "\n",
    "    Returns\n",
    "    -------\n",
    "    cm_df : Pandas DataFrame\n",
    "        Can be printed like print(cm_df) to easily display results\n",
    "    '''\n",
    "    cm = confusion_matrix(ytrue_N, yproba1_N >= thresh)\n",
    "    cm_df = pd.DataFrame(data=cm, columns=[0, 1], index=[0, 1])\n",
    "    cm_df.columns.name = 'Predicted'\n",
    "    cm_df.index.name = 'True'\n",
    "    return cm_df"
   ]
  },
  {
   "cell_type": "code",
   "execution_count": 15,
   "metadata": {},
   "outputs": [],
   "source": [
    "###inspect some of the images###"
   ]
  },
  {
   "cell_type": "code",
   "execution_count": 16,
   "metadata": {},
   "outputs": [
    {
     "data": {
      "image/png": "[encoded data removed]",
      "text/plain": [
       "<Figure size 720x720 with 9 Axes>"
      ]
     },
     "metadata": {
      "needs_background": "light"
     },
     "output_type": "display_data"
    }
   ],
   "source": [
    "fig = plt.figure(figsize=(10,10))\n",
    "rows = 3\n",
    "cols = 3\n",
    "\n",
    "for i in range(1,10):\n",
    "    fig.add_subplot(rows,cols,i)\n",
    "    plt.imshow(xc_train[(7200+i)].reshape(28,28), cmap='Spectral')\n",
    "    plt.axis('off')\n",
    "plt.tight_layout()"
   ]
  },
  {
   "cell_type": "code",
   "execution_count": 17,
   "metadata": {},
   "outputs": [
    {
     "data": {
      "text/plain": [
       "0.5"
      ]
     },
     "execution_count": 17,
     "metadata": {},
     "output_type": "execute_result"
    }
   ],
   "source": [
    "sum(yc_train)/len(yc_train) #50% trousers and 50% dresses"
   ]
  },
  {
   "cell_type": "code",
   "execution_count": 18,
   "metadata": {},
   "outputs": [],
   "source": [
    "from sklearn.decomposition import PCA"
   ]
  },
  {
   "cell_type": "code",
   "execution_count": 19,
   "metadata": {},
   "outputs": [],
   "source": [
    "pca_model = PCA(n_components=784)"
   ]
  },
  {
   "cell_type": "code",
   "execution_count": 20,
   "metadata": {},
   "outputs": [
    {
     "data": {
      "text/html": [
       "<style>#sk-container-id-1 {color: black;background-color: white;}#sk-container-id-1 pre{padding: 0;}#sk-container-id-1 div.sk-toggleable {background-color: white;}#sk-container-id-1 label.sk-toggleable__label {cursor: pointer;display: block;width: 100%;margin-bottom: 0;padding: 0.3em;box-sizing: border-box;text-align: center;}#sk-container-id-1 label.sk-toggleable__label-arrow:before {content: \"▸\";float: left;margin-right: 0.25em;color: #696969;}#sk-container-id-1 label.sk-toggleable__label-arrow:hover:before {color: black;}#sk-container-id-1 div.sk-estimator:hover label.sk-toggleable__label-arrow:before {color: black;}#sk-container-id-1 div.sk-toggleable__content {max-height: 0;max-width: 0;overflow: hidden;text-align: left;background-color: #f0f8ff;}#sk-container-id-1 div.sk-toggleable__content pre {margin: 0.2em;color: black;border-radius: 0.25em;background-color: #f0f8ff;}#sk-container-id-1 input.sk-toggleable__control:checked~div.sk-toggleable__content {max-height: 200px;max-width: 100%;overflow: auto;}#sk-container-id-1 input.sk-toggleable__control:checked~label.sk-toggleable__label-arrow:before {content: \"▾\";}#sk-container-id-1 div.sk-estimator input.sk-toggleable__control:checked~label.sk-toggleable__label {background-color: #d4ebff;}#sk-container-id-1 div.sk-label input.sk-toggleable__control:checked~label.sk-toggleable__label {background-color: #d4ebff;}#sk-container-id-1 input.sk-hidden--visually {border: 0;clip: rect(1px 1px 1px 1px);clip: rect(1px, 1px, 1px, 1px);height: 1px;margin: -1px;overflow: hidden;padding: 0;position: absolute;width: 1px;}#sk-container-id-1 div.sk-estimator {font-family: monospace;background-color: #f0f8ff;border: 1px dotted black;border-radius: 0.25em;box-sizing: border-box;margin-bottom: 0.5em;}#sk-container-id-1 div.sk-estimator:hover {background-color: #d4ebff;}#sk-container-id-1 div.sk-parallel-item::after {content: \"\";width: 100%;border-bottom: 1px solid gray;flex-grow: 1;}#sk-container-id-1 div.sk-label:hover label.sk-toggleable__label {background-color: #d4ebff;}#sk-container-id-1 div.sk-serial::before {content: \"\";position: absolute;border-left: 1px solid gray;box-sizing: border-box;top: 0;bottom: 0;left: 50%;z-index: 0;}#sk-container-id-1 div.sk-serial {display: flex;flex-direction: column;align-items: center;background-color: white;padding-right: 0.2em;padding-left: 0.2em;position: relative;}#sk-container-id-1 div.sk-item {position: relative;z-index: 1;}#sk-container-id-1 div.sk-parallel {display: flex;align-items: stretch;justify-content: center;background-color: white;position: relative;}#sk-container-id-1 div.sk-item::before, #sk-container-id-1 div.sk-parallel-item::before {content: \"\";position: absolute;border-left: 1px solid gray;box-sizing: border-box;top: 0;bottom: 0;left: 50%;z-index: -1;}#sk-container-id-1 div.sk-parallel-item {display: flex;flex-direction: column;z-index: 1;position: relative;background-color: white;}#sk-container-id-1 div.sk-parallel-item:first-child::after {align-self: flex-end;width: 50%;}#sk-container-id-1 div.sk-parallel-item:last-child::after {align-self: flex-start;width: 50%;}#sk-container-id-1 div.sk-parallel-item:only-child::after {width: 0;}#sk-container-id-1 div.sk-dashed-wrapped {border: 1px dashed gray;margin: 0 0.4em 0.5em 0.4em;box-sizing: border-box;padding-bottom: 0.4em;background-color: white;}#sk-container-id-1 div.sk-label label {font-family: monospace;font-weight: bold;display: inline-block;line-height: 1.2em;}#sk-container-id-1 div.sk-label-container {text-align: center;}#sk-container-id-1 div.sk-container {/* jupyter's `normalize.less` sets `[hidden] { display: none; }` but bootstrap.min.css set `[hidden] { display: none !important; }` so we also need the `!important` here to be able to override the default hidden behavior on the sphinx rendered scikit-learn.org. See: https://github.com/scikit-learn/scikit-learn/issues/21755 */display: inline-block !important;position: relative;}#sk-container-id-1 div.sk-text-repr-fallback {display: none;}</style><div id=\"sk-container-id-1\" class=\"sk-top-container\"><div class=\"sk-text-repr-fallback\"><pre>PCA(n_components=784)</pre><b>In a Jupyter environment, please rerun this cell to show the HTML representation or trust the notebook. <br />On GitHub, the HTML representation is unable to render, please try loading this page with nbviewer.org.</b></div><div class=\"sk-container\" hidden><div class=\"sk-item\"><div class=\"sk-estimator sk-toggleable\"><input class=\"sk-toggleable__control sk-hidden--visually\" id=\"sk-estimator-id-1\" type=\"checkbox\" checked><label for=\"sk-estimator-id-1\" class=\"sk-toggleable__label sk-toggleable__label-arrow\">PCA</label><div class=\"sk-toggleable__content\"><pre>PCA(n_components=784)</pre></div></div></div></div></div>"
      ],
      "text/plain": [
       "PCA(n_components=784)"
      ]
     },
     "execution_count": 20,
     "metadata": {},
     "output_type": "execute_result"
    }
   ],
   "source": [
    "pca_model.fit(xc_train, yc_train)"
   ]
  },
  {
   "cell_type": "code",
   "execution_count": 21,
   "metadata": {},
   "outputs": [
    {
     "data": {
      "text/plain": [
       "array([[ 3.80037911, -0.50571088,  0.53710516, ...,  0.10071405,\n",
       "         0.15718345,  0.25272797],\n",
       "       [ 1.77305063,  0.78755025, -1.4819616 , ...,  0.31555089,\n",
       "        -0.21286841, -0.53900731],\n",
       "       [ 2.41101347,  0.31629678,  0.9722296 , ...,  0.21820627,\n",
       "         0.18030882,  0.18049594],\n",
       "       ...,\n",
       "       [-0.2720874 ,  1.77215049, -0.78511841, ...,  0.22353759,\n",
       "         0.0767068 ,  0.01524965],\n",
       "       [-0.62603876, -0.57635433, -1.10593624, ...,  0.01612663,\n",
       "        -0.06865951,  0.02552224],\n",
       "       [-0.42847558, -0.58918198, -2.08635891, ...,  0.06316742,\n",
       "         0.22465036, -0.32693542]])"
      ]
     },
     "execution_count": 21,
     "metadata": {},
     "output_type": "execute_result"
    }
   ],
   "source": [
    "pca_model.transform(xc_train)"
   ]
  },
  {
   "cell_type": "code",
   "execution_count": 22,
   "metadata": {},
   "outputs": [],
   "source": [
    "comp_count = np.arange(1,785)"
   ]
  },
  {
   "cell_type": "code",
   "execution_count": 23,
   "metadata": {},
   "outputs": [
    {
     "data": {
      "text/plain": [
       "array([0.03666181, 0.01724605, 0.01269907, 0.00685751, 0.00547662,\n",
       "       0.00462862, 0.00373246, 0.003453  , 0.00294634, 0.00278624,\n",
       "       0.00275503, 0.00263012, 0.00251949, 0.00241126, 0.00238719,\n",
       "       0.00221996, 0.00215878, 0.00211562, 0.00207739, 0.00203649,\n",
       "       0.00203117, 0.00199658, 0.00198213, 0.0019725 , 0.00196618,\n",
       "       0.00195455, 0.00194971, 0.00194015, 0.00193234, 0.00192921,\n",
       "       0.00192303, 0.00191954, 0.00191628, 0.00191199, 0.0019048 ,\n",
       "       0.00189962, 0.00189881, 0.00189384, 0.0018912 , 0.00188646,\n",
       "       0.00188385, 0.00187567, 0.00187114, 0.00187069, 0.00186445,\n",
       "       0.00186359, 0.00185588, 0.00185308, 0.00184808, 0.00184473,\n",
       "       0.0018389 , 0.00183611, 0.00183135, 0.00182995, 0.00182843,\n",
       "       0.00182738, 0.00181973, 0.00181751, 0.00181326, 0.00181099,\n",
       "       0.00181003, 0.00180355, 0.00180119, 0.00179744, 0.00179489,\n",
       "       0.00179228, 0.00178884, 0.00178726, 0.00178511, 0.00178276,\n",
       "       0.00178005, 0.00177544, 0.00177468, 0.0017706 , 0.00176693,\n",
       "       0.00176118, 0.00175949, 0.00175723, 0.00175631, 0.00175073,\n",
       "       0.00174659, 0.00174311, 0.00174234, 0.00174074, 0.00173733,\n",
       "       0.00173348, 0.00173044, 0.00172745, 0.00172542, 0.00172479,\n",
       "       0.00171776, 0.00171685, 0.00171503, 0.00171229, 0.00171101,\n",
       "       0.00170716, 0.00170463, 0.00170246, 0.00169894, 0.00169609,\n",
       "       0.00169314, 0.00169047, 0.00168905, 0.00168729, 0.00168484,\n",
       "       0.00168366, 0.00167804, 0.00167711, 0.00167326, 0.00167204,\n",
       "       0.00166813, 0.00166733, 0.00166434, 0.00166314, 0.00166155,\n",
       "       0.00166013, 0.00165757, 0.00165599, 0.0016547 , 0.00165135,\n",
       "       0.00164924, 0.00164771, 0.00164544, 0.00164426, 0.00164078,\n",
       "       0.00163956, 0.00163338, 0.00163209, 0.00163141, 0.00162812,\n",
       "       0.00162707, 0.00162401, 0.00162315, 0.00162056, 0.00161791,\n",
       "       0.001615  , 0.00161154, 0.00160901, 0.00160716, 0.00160239,\n",
       "       0.00160201, 0.00160018, 0.00159661, 0.00159465, 0.00159293,\n",
       "       0.00158946, 0.00158806, 0.00158595, 0.00158489, 0.00158414,\n",
       "       0.00158193, 0.00157852, 0.00157571, 0.00157423, 0.00157251,\n",
       "       0.00156913, 0.00156873, 0.00156623, 0.00156421, 0.00156273,\n",
       "       0.0015616 , 0.00155992, 0.00155802, 0.00155248, 0.00155056,\n",
       "       0.00155017, 0.00154785, 0.00154628, 0.00154329, 0.00154149,\n",
       "       0.00153958, 0.00153556, 0.00153462, 0.00153398, 0.00153156,\n",
       "       0.00152974, 0.00152843, 0.00152533, 0.00152168, 0.00152085,\n",
       "       0.00151994, 0.00151448, 0.00151396, 0.00151069, 0.00150967,\n",
       "       0.00150803, 0.00150522, 0.00150377, 0.00150003, 0.0014987 ,\n",
       "       0.00149627, 0.00149421, 0.0014934 , 0.0014926 , 0.0014914 ,\n",
       "       0.00148915, 0.00148844, 0.00148597, 0.00148456, 0.00148121,\n",
       "       0.0014781 , 0.00147745, 0.00147608, 0.00147443, 0.00147323,\n",
       "       0.00147093, 0.00146937, 0.00146631, 0.0014639 , 0.00146297,\n",
       "       0.0014625 , 0.00145989, 0.00145803, 0.00145407, 0.00145303,\n",
       "       0.00145157, 0.00145009, 0.00144851, 0.00144639, 0.00144408,\n",
       "       0.00144283, 0.00144118, 0.00143958, 0.00143832, 0.001437  ,\n",
       "       0.00143383, 0.00143346, 0.00143086, 0.0014269 , 0.00142552,\n",
       "       0.00142285, 0.00142177, 0.00142072, 0.00141877, 0.00141754,\n",
       "       0.00141544, 0.00141417, 0.00141207, 0.00140971, 0.00140885,\n",
       "       0.00140727, 0.0014055 , 0.00140244, 0.00140202, 0.00140002,\n",
       "       0.00139833, 0.00139697, 0.00139341, 0.00139273, 0.00138984,\n",
       "       0.00138976, 0.00138834, 0.00138676, 0.00138486, 0.00138431,\n",
       "       0.00138298, 0.00137989, 0.00137764, 0.0013766 , 0.00137232,\n",
       "       0.00137124, 0.00137062, 0.00136906, 0.00136606, 0.00136447,\n",
       "       0.00136347, 0.00136202, 0.00135929, 0.00135616, 0.00135375,\n",
       "       0.0013515 , 0.00135089, 0.0013489 , 0.00134801, 0.00134461,\n",
       "       0.00134349, 0.00134223, 0.00134076, 0.00133717, 0.00133626,\n",
       "       0.0013342 , 0.00133232, 0.00132998, 0.00132952, 0.00132674,\n",
       "       0.00132629, 0.00132413, 0.0013228 , 0.00132093, 0.00131946,\n",
       "       0.00131808, 0.0013176 , 0.00131564, 0.00131387, 0.00131308,\n",
       "       0.00130938, 0.00130744, 0.00130577, 0.00130472, 0.00130329,\n",
       "       0.0013021 , 0.00129976, 0.00129798, 0.00129745, 0.00129473,\n",
       "       0.00129359, 0.00129076, 0.00128948, 0.00128735, 0.00128465,\n",
       "       0.00128286, 0.00128134, 0.00128087, 0.00127936, 0.00127737,\n",
       "       0.00127623, 0.00127523, 0.00127349, 0.00127096, 0.00126929,\n",
       "       0.00126858, 0.00126672, 0.00126473, 0.00126327, 0.00126128,\n",
       "       0.00126001, 0.0012577 , 0.00125509, 0.00125216, 0.0012497 ,\n",
       "       0.00124954, 0.00124827, 0.00124661, 0.00124616, 0.00124276,\n",
       "       0.0012423 , 0.00124008, 0.00123846, 0.00123525, 0.0012347 ,\n",
       "       0.00123336, 0.00123136, 0.00123087, 0.00122875, 0.00122794,\n",
       "       0.00122627, 0.00122496, 0.00122379, 0.00122139, 0.00121938,\n",
       "       0.0012183 , 0.00121564, 0.0012122 , 0.00120969, 0.00120901,\n",
       "       0.00120761, 0.00120651, 0.00120473, 0.00120135, 0.00119979,\n",
       "       0.0011986 , 0.0011983 , 0.00119643, 0.0011956 , 0.00119163,\n",
       "       0.00119076, 0.00118904, 0.00118761, 0.00118609, 0.00118536,\n",
       "       0.00118477, 0.00118137, 0.00118012, 0.00117842, 0.00117573,\n",
       "       0.00117371, 0.00117231, 0.00117178, 0.00116995, 0.00116763,\n",
       "       0.00116629, 0.00116434, 0.00116401, 0.00116163, 0.00115798,\n",
       "       0.00115654, 0.00115477, 0.00115375, 0.00115303, 0.00115048,\n",
       "       0.00115036, 0.00114924, 0.00114803, 0.00114562, 0.0011453 ,\n",
       "       0.00114347, 0.00114143, 0.00113998, 0.00113573, 0.00113409,\n",
       "       0.00113372, 0.00113151, 0.00113014, 0.00112831, 0.00112729,\n",
       "       0.00112689, 0.00112401, 0.00112224, 0.00111905, 0.00111852,\n",
       "       0.00111555, 0.00111391, 0.00111339, 0.0011123 , 0.00111008,\n",
       "       0.00110954, 0.00110626, 0.00110554, 0.00110456, 0.00110136,\n",
       "       0.00110066, 0.00109963, 0.00109783, 0.00109498, 0.00109395,\n",
       "       0.00109337, 0.00108947, 0.00108933, 0.0010872 , 0.00108501,\n",
       "       0.00108436, 0.00108272, 0.00108051, 0.00107927, 0.0010764 ,\n",
       "       0.00107557, 0.00107455, 0.00107324, 0.00107103, 0.00107013,\n",
       "       0.0010681 , 0.00106596, 0.0010637 , 0.00106312, 0.00106159,\n",
       "       0.00105877, 0.00105751, 0.00105529, 0.00105317, 0.00105159,\n",
       "       0.00105037, 0.00104647, 0.0010463 , 0.00104445, 0.00104421,\n",
       "       0.00104125, 0.00103954, 0.00103802, 0.00103656, 0.00103346,\n",
       "       0.00103229, 0.00103065, 0.00102968, 0.00102851, 0.00102444,\n",
       "       0.00102308, 0.00102098, 0.00101951, 0.00101886, 0.00101398,\n",
       "       0.00101318, 0.00101133, 0.00101041, 0.00100903, 0.00100841,\n",
       "       0.00100484, 0.00100402, 0.00100293, 0.00100162, 0.00100015,\n",
       "       0.00099879, 0.00099663, 0.00099352, 0.00099195, 0.0009895 ,\n",
       "       0.00098838, 0.00098689, 0.00098431, 0.00098312, 0.00098061,\n",
       "       0.00097943, 0.00097833, 0.00097737, 0.00097523, 0.00097349,\n",
       "       0.00097262, 0.00097189, 0.00097057, 0.00096771, 0.00096619,\n",
       "       0.00096369, 0.00096243, 0.00095996, 0.00095812, 0.00095642,\n",
       "       0.00095593, 0.00095477, 0.00095026, 0.00094863, 0.00094766,\n",
       "       0.00094596, 0.00094431, 0.00094421, 0.00094092, 0.00093883,\n",
       "       0.00093629, 0.00093546, 0.0009345 , 0.00093198, 0.00093063,\n",
       "       0.00092861, 0.00092679, 0.00092499, 0.00092432, 0.00092218,\n",
       "       0.00091919, 0.00091743, 0.00091587, 0.00091455, 0.00091357,\n",
       "       0.00091192, 0.00091052, 0.00090958, 0.00090762, 0.00090571,\n",
       "       0.00090351, 0.00090166, 0.00090112, 0.00089857, 0.00089591,\n",
       "       0.00089335, 0.00089066, 0.00089057, 0.00088915, 0.00088836,\n",
       "       0.00088587, 0.00088247, 0.00088089, 0.00087949, 0.00087713,\n",
       "       0.00087506, 0.0008728 , 0.00087097, 0.00086942, 0.00086904,\n",
       "       0.00086811, 0.00086645, 0.00086604, 0.00086366, 0.00086189,\n",
       "       0.00085884, 0.00085739, 0.00085605, 0.00085444, 0.00085342,\n",
       "       0.0008515 , 0.00085091, 0.00084879, 0.00084722, 0.00084567,\n",
       "       0.00084492, 0.00084179, 0.00084159, 0.00083929, 0.00083879,\n",
       "       0.00083627, 0.00083548, 0.00083348, 0.00083206, 0.00083046,\n",
       "       0.00082741, 0.00082688, 0.00082606, 0.00082483, 0.00082303,\n",
       "       0.00082205, 0.0008202 , 0.00081844, 0.00081619, 0.00081488,\n",
       "       0.00081365, 0.00081274, 0.00081237, 0.00081086, 0.00080926,\n",
       "       0.00080802, 0.00080514, 0.00080305, 0.0008012 , 0.0008003 ,\n",
       "       0.00079893, 0.00079883, 0.00079664, 0.00079571, 0.000794  ,\n",
       "       0.00079092, 0.00078996, 0.00078853, 0.00078767, 0.00078656,\n",
       "       0.00078483, 0.00078271, 0.00078149, 0.00078114, 0.00077919,\n",
       "       0.00077734, 0.00077644, 0.00077458, 0.00077166, 0.00077116,\n",
       "       0.0007703 , 0.0007692 , 0.00076676, 0.00076407, 0.00076264,\n",
       "       0.00076191, 0.0007596 , 0.00075912, 0.0007582 , 0.00075744,\n",
       "       0.00075571, 0.00075475, 0.00075324, 0.00075182, 0.00075014,\n",
       "       0.00074853, 0.00074827, 0.00074528, 0.00074412, 0.00074246,\n",
       "       0.00074024, 0.0007398 , 0.00073838, 0.00073776, 0.00073615,\n",
       "       0.00073529, 0.00073403, 0.00073346, 0.00073027, 0.00072809,\n",
       "       0.00072726, 0.00072474, 0.00072349, 0.00072269, 0.00072191,\n",
       "       0.0007201 , 0.00071918, 0.00071731, 0.00071519, 0.00071387,\n",
       "       0.00071248, 0.000711  , 0.00070931, 0.00070768, 0.00070592,\n",
       "       0.00070534, 0.00070356, 0.00070274, 0.00070198, 0.00069961,\n",
       "       0.0006978 , 0.00069643, 0.0006956 , 0.00069393, 0.00069311,\n",
       "       0.0006909 , 0.00068992, 0.00068858, 0.00068742, 0.00068541,\n",
       "       0.00068462, 0.00068332, 0.00068187, 0.00068059, 0.00067934,\n",
       "       0.00067866, 0.00067693, 0.00067606, 0.00067551, 0.00067345,\n",
       "       0.0006719 , 0.00067037, 0.00066869, 0.00066798, 0.00066651,\n",
       "       0.0006657 , 0.00066372, 0.00066319, 0.00066135, 0.00065996,\n",
       "       0.00065798, 0.00065699, 0.00065492, 0.00065324, 0.00065239,\n",
       "       0.00065025, 0.00064885, 0.00064717, 0.0006445 , 0.00064429,\n",
       "       0.00064248, 0.00064206, 0.00064041, 0.00063928, 0.00063806,\n",
       "       0.00063654, 0.00063477, 0.00063349, 0.00063244, 0.00063075,\n",
       "       0.00062931, 0.00062908, 0.00062704, 0.00062614, 0.00062429,\n",
       "       0.00062269, 0.00062176, 0.00062091, 0.00061784, 0.00061688,\n",
       "       0.00061464, 0.00061358, 0.00061268, 0.00061146, 0.00061022,\n",
       "       0.00060766, 0.00060551, 0.0006041 , 0.00060261, 0.00060083,\n",
       "       0.00059839, 0.00059701, 0.00059541, 0.00059418, 0.00059059,\n",
       "       0.00058965, 0.00058846, 0.00058675, 0.00058663, 0.00058458,\n",
       "       0.00058156, 0.00057985, 0.00057846, 0.00057554, 0.00057358,\n",
       "       0.00057262, 0.00057111, 0.00056738, 0.00056561, 0.00056496,\n",
       "       0.0005642 , 0.00056199, 0.00056108, 0.00055919, 0.00055742,\n",
       "       0.00055379, 0.00055223, 0.0005513 , 0.00054759, 0.00054578,\n",
       "       0.0005414 , 0.0005406 , 0.00053846, 0.00053696, 0.0005324 ,\n",
       "       0.00053146, 0.00052755, 0.00051808, 0.00050659, 0.00050282,\n",
       "       0.00049948, 0.0004917 , 0.00048646, 0.00047548])"
      ]
     },
     "execution_count": 23,
     "metadata": {},
     "output_type": "execute_result"
    }
   ],
   "source": [
    "pca_model.explained_variance_ratio_"
   ]
  },
  {
   "cell_type": "code",
   "execution_count": 24,
   "metadata": {},
   "outputs": [],
   "source": [
    "var_explained = list()\n",
    "for i in range(1,len(comp_count)+1):\n",
    "    var = sum(pca_model.explained_variance_ratio_[0:i])\n",
    "    var_explained.append(var)\n",
    "var_explained = np.array(var_explained)"
   ]
  },
  {
   "cell_type": "code",
   "execution_count": 25,
   "metadata": {},
   "outputs": [
    {
     "data": {
      "image/png": "[encoded data removed]",
      "text/plain": [
       "<Figure size 432x288 with 1 Axes>"
      ]
     },
     "metadata": {
      "needs_background": "light"
     },
     "output_type": "display_data"
    }
   ],
   "source": [
    "sns.lineplot(x=comp_count, y=var_explained)\n",
    "plt.ylabel('Cumulative Percentage of Variance Explained')\n",
    "plt.xlabel('Number of Componenets')\n",
    "plt.show;"
   ]
  },
  {
   "cell_type": "code",
   "execution_count": 26,
   "metadata": {},
   "outputs": [
    {
     "data": {
      "image/png": "[encoded data removed]",
      "text/plain": [
       "<Figure size 432x288 with 1 Axes>"
      ]
     },
     "metadata": {
      "needs_background": "light"
     },
     "output_type": "display_data"
    }
   ],
   "source": [
    "test_row = np.copy(xc_train[7205])\n",
    "plt.imshow(test_row.reshape(28,28), cmap='Spectral')\n",
    "plt.show;"
   ]
  },
  {
   "cell_type": "code",
   "execution_count": 12,
   "metadata": {},
   "outputs": [],
   "source": [
    "def cleanup(test_row):\n",
    "    for i in range(29,(len(test_row)-29)):\n",
    "        spots = [(i-29),(i-28),(i-27), (i-1),(i+1), (i+27), (i+28), (i+29)]\n",
    "        zeros = 0\n",
    "        nonzeros = 0\n",
    "        tot = 0\n",
    "        for j in spots:\n",
    "            if test_row[j] == 0:\n",
    "                zeros+=1\n",
    "                tot += test_row[j]\n",
    "            else:\n",
    "                nonzeros += 1\n",
    "                tot += test_row[j]\n",
    "        if (i % 28 in range(13,17)) and (i/28 > 15):\n",
    "            if test_row[i] !=0:\n",
    "                if zeros >=4:\n",
    "                    test_row[i] = 0\n",
    "            elif test_row[i] == 0:\n",
    "                if nonzeros >= 6:\n",
    "                    test_row[i] = tot/8\n",
    "\n",
    "        elif i % 28 in range(8,21):\n",
    "            if test_row[i] !=0:\n",
    "                if zeros >=7:\n",
    "                    test_row[i] = 0\n",
    "            elif test_row[i] == 0:\n",
    "                if nonzeros >= 3:\n",
    "                    test_row[i] = tot/8\n",
    "            \n",
    "        else:\n",
    "            if test_row[i] !=0:\n",
    "                if zeros >=6:\n",
    "                    test_row[i] = 0\n",
    "            elif test_row[i] == 0:\n",
    "                if nonzeros >= 6:\n",
    "                    test_row[i] = tot/8\n",
    "        \n",
    "#plt.imshow(test_row.reshape(28,28), cmap='Spectral')\n",
    "#plt.show;"
   ]
  },
  {
   "cell_type": "code",
   "execution_count": 28,
   "metadata": {},
   "outputs": [],
   "source": [
    "#first split our data so that we have a validation set\n",
    "from sklearn.model_selection import train_test_split\n",
    "from sklearn.linear_model import LogisticRegressionCV\n",
    "from sklearn.metrics import log_loss\n",
    "from sklearn.metrics import roc_auc_score\n",
    "from sklearn.metrics import roc_curve"
   ]
  },
  {
   "cell_type": "code",
   "execution_count": 29,
   "metadata": {},
   "outputs": [],
   "source": [
    "xc_train, xc_val, yc_train, yc_val = train_test_split(xc_train, yc_train,test_size=.25, random_state=1)"
   ]
  },
  {
   "cell_type": "code",
   "execution_count": 30,
   "metadata": {},
   "outputs": [],
   "source": [
    "C_grid = np.logspace(-9,6,31)\n",
    "non_regd_cs = np.array([1000000, 100000000])"
   ]
  },
  {
   "cell_type": "code",
   "execution_count": 31,
   "metadata": {},
   "outputs": [],
   "source": [
    "base_model = LogisticRegressionCV(solver='liblinear', random_state=1, Cs=non_regd_cs, max_iter=500)"
   ]
  },
  {
   "cell_type": "code",
   "execution_count": 32,
   "metadata": {},
   "outputs": [
    {
     "name": "stdout",
     "output_type": "stream",
     "text": [
      "0.9263333333333333\n",
      "2.544389577785536\n"
     ]
    }
   ],
   "source": [
    "base_model.fit(xc_train, yc_train)\n",
    "base_base_preds = base_model.predict(xc_val)\n",
    "base_acc = base_model.score(xc_val,yc_val)\n",
    "base_ll = log_loss(yc_val, base_base_preds)\n",
    "print(base_acc)\n",
    "print(base_ll)"
   ]
  },
  {
   "cell_type": "code",
   "execution_count": 33,
   "metadata": {},
   "outputs": [],
   "source": [
    "#Doubling our data"
   ]
  },
  {
   "cell_type": "code",
   "execution_count": 34,
   "metadata": {},
   "outputs": [],
   "source": [
    "xc_train = np.loadtxt(\"C:\\\\Users\\\\Joe\\Desktop\\\\Tufts Fall 2022\\\\CS 135\\\\project01\\\\data_trouser_dress\\\\troudress_train_x.csv\", delimiter=',', skiprows=1)\n",
    "xc_test = np.loadtxt(\"C:\\\\Users\\\\Joe\\Desktop\\\\Tufts Fall 2022\\\\CS 135\\\\project01\\\\data_trouser_dress\\\\troudress_test_x.csv\", delimiter=',', skiprows=1)\n",
    "yc_train = np.loadtxt(\"C:\\\\Users\\\\Joe\\Desktop\\\\Tufts Fall 2022\\\\CS 135\\\\project01\\\\data_trouser_dress\\\\troudress_train_y.csv\", delimiter=',', skiprows=1)"
   ]
  },
  {
   "cell_type": "code",
   "execution_count": 35,
   "metadata": {},
   "outputs": [],
   "source": [
    "flip_train = np.ones(len(xc_train)*len(xc_train[0])).reshape(len(xc_train),len(xc_train[0]))"
   ]
  },
  {
   "cell_type": "code",
   "execution_count": 36,
   "metadata": {},
   "outputs": [],
   "source": [
    "for big_row in range(0, len(xc_train)):\n",
    "    row_mat = np.copy(xc_train[big_row].reshape(28,28))\n",
    "\n",
    "    for row in range(0,len(row_mat)):\n",
    "        row_mat[row] = row_mat[row][::-1]\n",
    "    \n",
    "    flip_row = row_mat.reshape(1,784)\n",
    "    flip_train[big_row] = flip_row\n"
   ]
  },
  {
   "cell_type": "code",
   "execution_count": 37,
   "metadata": {},
   "outputs": [
    {
     "data": {
      "image/png": "[encoded data removed]",
      "text/plain": [
       "<Figure size 432x288 with 1 Axes>"
      ]
     },
     "metadata": {
      "needs_background": "light"
     },
     "output_type": "display_data"
    }
   ],
   "source": [
    "plt.imshow(xc_train[11999].reshape(28,28), cmap='Spectral')\n",
    "plt.axis('off')\n",
    "plt.show;"
   ]
  },
  {
   "cell_type": "code",
   "execution_count": 38,
   "metadata": {},
   "outputs": [
    {
     "data": {
      "image/png": "[encoded data removed]",
      "text/plain": [
       "<Figure size 432x288 with 1 Axes>"
      ]
     },
     "metadata": {
      "needs_background": "light"
     },
     "output_type": "display_data"
    }
   ],
   "source": [
    "plt.imshow(flip_train[11999].reshape(28,28), cmap='Spectral')\n",
    "plt.axis('off')\n",
    "plt.show;\n",
    "\n"
   ]
  },
  {
   "cell_type": "code",
   "execution_count": 39,
   "metadata": {},
   "outputs": [],
   "source": [
    "#Combining the data\n",
    "\n",
    "xc_train = np.vstack((xc_train,flip_train))\n",
    "yc_train = np.hstack((yc_train,yc_train))"
   ]
  },
  {
   "cell_type": "code",
   "execution_count": 40,
   "metadata": {},
   "outputs": [
    {
     "name": "stdout",
     "output_type": "stream",
     "text": [
      "(24000, 784)\n",
      "(24000,)\n"
     ]
    }
   ],
   "source": [
    "print(xc_train.shape)\n",
    "print(yc_train.shape)"
   ]
  },
  {
   "cell_type": "code",
   "execution_count": 41,
   "metadata": {},
   "outputs": [],
   "source": [
    "#### Building our model on non-transformed data"
   ]
  },
  {
   "cell_type": "code",
   "execution_count": 42,
   "metadata": {},
   "outputs": [],
   "source": [
    "xc_train, xc_val, yc_train, yc_val = train_test_split(xc_train, yc_train,test_size=.25, random_state=1)"
   ]
  },
  {
   "cell_type": "code",
   "execution_count": 43,
   "metadata": {},
   "outputs": [],
   "source": [
    "base_model = LogisticRegressionCV(solver='liblinear', random_state=1, Cs=non_regd_cs)"
   ]
  },
  {
   "cell_type": "code",
   "execution_count": 44,
   "metadata": {},
   "outputs": [
    {
     "name": "stdout",
     "output_type": "stream",
     "text": [
      "0.9391666666666667\n",
      "2.1011312860851126\n"
     ]
    }
   ],
   "source": [
    "base_model.fit(xc_train, yc_train)\n",
    "base_base_preds = base_model.predict(xc_val)\n",
    "base_acc = base_model.score(xc_val,yc_val)\n",
    "base_ll = log_loss(yc_val, base_base_preds)\n",
    "print(base_acc)\n",
    "print(base_ll)\n"
   ]
  },
  {
   "cell_type": "code",
   "execution_count": 45,
   "metadata": {},
   "outputs": [],
   "source": [
    "#So we get some improvement by doubling the data!"
   ]
  },
  {
   "cell_type": "code",
   "execution_count": 46,
   "metadata": {},
   "outputs": [],
   "source": [
    "#Now we test regularized models"
   ]
  },
  {
   "cell_type": "code",
   "execution_count": 47,
   "metadata": {},
   "outputs": [],
   "source": [
    "base_c_reg_mod_lasso = LogisticRegressionCV(solver='liblinear', penalty='l1', Cs=C_grid, random_state = 1, max_iter=200)\n",
    "base_c_reg_mod_lasso.fit(xc_train, yc_train)\n",
    "base_c_preds = base_c_reg_mod_lasso.predict(xc_train)\n"
   ]
  },
  {
   "cell_type": "code",
   "execution_count": 48,
   "metadata": {},
   "outputs": [
    {
     "name": "stdout",
     "output_type": "stream",
     "text": [
      "0.9544444444444444\n",
      "1.5734476284771675\n"
     ]
    },
    {
     "data": {
      "text/plain": [
       "array([0.1])"
      ]
     },
     "execution_count": 48,
     "metadata": {},
     "output_type": "execute_result"
    }
   ],
   "source": [
    "acc = base_c_reg_mod_lasso.score(xc_train,yc_train)\n",
    "cll = log_loss(yc_train, base_c_preds)\n",
    "print(acc)\n",
    "print(cll)\n",
    "\n",
    "base_c_reg_mod_lasso.C_\n"
   ]
  },
  {
   "cell_type": "code",
   "execution_count": 49,
   "metadata": {},
   "outputs": [],
   "source": [
    "\n",
    "base_c_reg_mod_ridge = LogisticRegressionCV(solver='liblinear', penalty='l2', Cs=C_grid, random_state = 1, max_iter=200)\n",
    "base_c_reg_mod_ridge.fit(xc_train, yc_train)\n",
    "base_c_preds = base_c_reg_mod_ridge.predict(xc_val)\n",
    "\n",
    "  "
   ]
  },
  {
   "cell_type": "code",
   "execution_count": 50,
   "metadata": {},
   "outputs": [
    {
     "name": "stdout",
     "output_type": "stream",
     "text": [
      "0.949\n",
      "1.7614938546215266\n"
     ]
    },
    {
     "data": {
      "text/plain": [
       "array([0.00316228])"
      ]
     },
     "execution_count": 50,
     "metadata": {},
     "output_type": "execute_result"
    }
   ],
   "source": [
    "\n",
    "acc_ridge = base_c_reg_mod_ridge.score(xc_val, yc_val)\n",
    "cll_ridge = log_loss(yc_val, base_c_preds)\n",
    "\n",
    "print(acc_ridge)\n",
    "print(cll_ridge)\n",
    "base_c_reg_mod_ridge.C_\n"
   ]
  },
  {
   "cell_type": "code",
   "execution_count": null,
   "metadata": {},
   "outputs": [],
   "source": []
  },
  {
   "cell_type": "code",
   "execution_count": 51,
   "metadata": {},
   "outputs": [],
   "source": [
    "#We will go with l1 penalty since results are slightly better and we want to eliminate features (the features on the edges shouldn't matter)"
   ]
  },
  {
   "cell_type": "code",
   "execution_count": 52,
   "metadata": {},
   "outputs": [],
   "source": [
    "#Testing thresholds"
   ]
  },
  {
   "cell_type": "code",
   "execution_count": 53,
   "metadata": {},
   "outputs": [],
   "source": [
    "base_c_pred_probs = base_c_reg_mod_lasso.predict_proba(xc_val)[:,1]"
   ]
  },
  {
   "cell_type": "code",
   "execution_count": 54,
   "metadata": {},
   "outputs": [
    {
     "name": "stdout",
     "output_type": "stream",
     "text": [
      "[0.   0.05 0.1  0.15 0.2  0.25 0.3  0.35 0.4  0.45 0.5  0.55 0.6  0.65\n",
      " 0.7  0.75 0.8  0.85 0.9  0.95 1.  ]\n"
     ]
    }
   ],
   "source": [
    "thresholds = np.arange(0,105,5)/100\n",
    "print(thresholds)"
   ]
  },
  {
   "cell_type": "code",
   "execution_count": 55,
   "metadata": {},
   "outputs": [],
   "source": [
    "accuracy_list = list()\n",
    "for thresh in thresholds:\n",
    "    preds = list()\n",
    "    for prob in base_c_pred_probs:\n",
    "        if prob >= thresh:\n",
    "            preds.append(1)\n",
    "        else:\n",
    "            preds.append(0)\n",
    "    TP = 0\n",
    "    TN = 0\n",
    "    FP = 0\n",
    "    FN = 0\n",
    "\n",
    "    for i in range(0,len(yc_val)):\n",
    "        if yc_val[i] == 1:\n",
    "            if preds[i] == 1:\n",
    "                TP += 1\n",
    "            else:\n",
    "                FN += 1\n",
    "        else:\n",
    "            if preds[i] == 0:\n",
    "                TN += 1\n",
    "            else:\n",
    "                FP += 1\n",
    "\n",
    "    acc = (TP+TN)/(len(yc_val))\n",
    "    accuracy_list.append(acc)"
   ]
  },
  {
   "cell_type": "code",
   "execution_count": 56,
   "metadata": {},
   "outputs": [
    {
     "name": "stdout",
     "output_type": "stream",
     "text": [
      "[0.49966666666666665, 0.8006666666666666, 0.8623333333333333, 0.8931666666666667, 0.9156666666666666, 0.9286666666666666, 0.9361666666666667, 0.9418333333333333, 0.9455, 0.9478333333333333, 0.9491666666666667, 0.948, 0.9466666666666667, 0.9448333333333333, 0.9406666666666667, 0.9355, 0.9305, 0.918, 0.9001666666666667, 0.8658333333333333, 0.5003333333333333]\n",
      "0.9491666666666667\n"
     ]
    },
    {
     "data": {
      "text/plain": [
       "0.5"
      ]
     },
     "execution_count": 56,
     "metadata": {},
     "output_type": "execute_result"
    }
   ],
   "source": [
    "print(accuracy_list)\n",
    "print(max(accuracy_list))\n",
    "#print(len(accuracy_list))\n",
    "#print(len(thresholds))\n",
    "thresholds[np.argmax(accuracy_list)]"
   ]
  },
  {
   "cell_type": "code",
   "execution_count": 57,
   "metadata": {},
   "outputs": [],
   "source": [
    "#.5 is our best threshold"
   ]
  },
  {
   "cell_type": "code",
   "execution_count": 58,
   "metadata": {},
   "outputs": [
    {
     "data": {
      "text/plain": [
       "0.9819519919786629"
      ]
     },
     "execution_count": 58,
     "metadata": {},
     "output_type": "execute_result"
    }
   ],
   "source": [
    "fpr, tpr, threshs = roc_curve(yc_val, base_c_pred_probs)\n",
    "roc_auc_score(yc_val, base_c_pred_probs)"
   ]
  },
  {
   "cell_type": "code",
   "execution_count": 59,
   "metadata": {},
   "outputs": [
    {
     "data": {
      "image/png": "[encoded data removed]",
      "text/plain": [
       "<Figure size 432x288 with 1 Axes>"
      ]
     },
     "metadata": {
      "needs_background": "light"
     },
     "output_type": "display_data"
    }
   ],
   "source": [
    "sns.lineplot(x=fpr, y=tpr, estimator=np.max)\n",
    "plt.xlabel('False Positive Rate')\n",
    "plt.ylabel('True Positive Rate')\n",
    "plt.legend(labels=['Base Lasso Model ROC'])\n",
    "plt.show;"
   ]
  },
  {
   "cell_type": "code",
   "execution_count": 60,
   "metadata": {},
   "outputs": [],
   "source": [
    "#The key distinction between trousers and dresses is the gap between the legs in pants"
   ]
  },
  {
   "cell_type": "code",
   "execution_count": 61,
   "metadata": {},
   "outputs": [
    {
     "data": {
      "image/png": "[encoded data removed]",
      "text/plain": [
       "<Figure size 432x288 with 1 Axes>"
      ]
     },
     "metadata": {
      "needs_background": "light"
     },
     "output_type": "display_data"
    }
   ],
   "source": [
    "plt.imshow(xc_train[7249].reshape(28,28), cmap='Spectral')\n",
    "plt.imshow(xc_train[7206].reshape(28,28), cmap='Spectral')\n",
    "plt.show;"
   ]
  },
  {
   "cell_type": "code",
   "execution_count": 62,
   "metadata": {},
   "outputs": [],
   "source": [
    "#This gap is occuring somewhere in the middle of the X axis and the bottom half of the y axis\n",
    "\n",
    "#We create three zones across the data -> 1. \"left leg\" 2. \"gap\" 3. \"right leg\"  \n",
    "\n",
    "#Right leg is  % 28 in 16, 17 ,18 ; Gap is 13,14,15, left leg is 10,11,12\n",
    "\n",
    "#exclude zeros for right leg and left leg. calculate min val in each zone. new feat is the sum of the (avg(left min, right min) - gap min)\n",
    "\n",
    "#Read in the data again to apply the transformations, then build the model"
   ]
  },
  {
   "cell_type": "code",
   "execution_count": 63,
   "metadata": {},
   "outputs": [],
   "source": [
    "#put our data back together again"
   ]
  },
  {
   "cell_type": "code",
   "execution_count": 64,
   "metadata": {},
   "outputs": [],
   "source": [
    "xc_train = np.loadtxt(\"C:\\\\Users\\\\Joe\\Desktop\\\\Tufts Fall 2022\\\\CS 135\\\\project01\\\\data_trouser_dress\\\\troudress_train_x.csv\", delimiter=',', skiprows=1)\n",
    "xc_test = np.loadtxt(\"C:\\\\Users\\\\Joe\\Desktop\\\\Tufts Fall 2022\\\\CS 135\\\\project01\\\\data_trouser_dress\\\\troudress_test_x.csv\", delimiter=',', skiprows=1)\n",
    "yc_train = np.loadtxt(\"C:\\\\Users\\\\Joe\\Desktop\\\\Tufts Fall 2022\\\\CS 135\\\\project01\\\\data_trouser_dress\\\\troudress_train_y.csv\", delimiter=',', skiprows=1)"
   ]
  },
  {
   "cell_type": "code",
   "execution_count": 65,
   "metadata": {},
   "outputs": [],
   "source": [
    "flip_train = np.ones(len(xc_train)*len(xc_train[0])).reshape(len(xc_train),len(xc_train[0]))\n",
    "for big_row in range(0, len(xc_train)):\n",
    "    row_mat = np.copy(xc_train[big_row].reshape(28,28))\n",
    "\n",
    "    for row in range(0,len(row_mat)):\n",
    "        row_mat[row] = row_mat[row][::-1]\n",
    "    \n",
    "    flip_row = row_mat.reshape(1,784)\n",
    "    flip_train[big_row] = flip_row\n",
    "xc_train = np.vstack((xc_train,flip_train))\n",
    "yc_train = np.hstack((yc_train,yc_train))"
   ]
  },
  {
   "cell_type": "code",
   "execution_count": 66,
   "metadata": {},
   "outputs": [],
   "source": [
    "trouser_inds = np.where(yc_train == 1)[0]\n",
    "dress_inds = np.where(yc_train == 0)[0]"
   ]
  },
  {
   "cell_type": "code",
   "execution_count": 67,
   "metadata": {},
   "outputs": [],
   "source": [
    "xc_copy = np.copy(xc_train)\n",
    "yc_copy = np.copy(yc_train)"
   ]
  },
  {
   "cell_type": "code",
   "execution_count": 68,
   "metadata": {},
   "outputs": [
    {
     "name": "stdout",
     "output_type": "stream",
     "text": [
      "[ 0  1  2  3  4  5  6  7  8  9 10 11 12 13 14 15 16 17 18 19 20 21 22 23\n",
      " 24 25 26 27]\n"
     ]
    }
   ],
   "source": [
    "x_axis = np.arange(0,28)\n",
    "print(x_axis)"
   ]
  },
  {
   "cell_type": "code",
   "execution_count": 69,
   "metadata": {},
   "outputs": [],
   "source": [
    "avg_trous_vals = np.zeros(28)\n",
    "for row in trouser_inds:\n",
    "\n",
    "    row_mat = np.copy(xc_train[row]).reshape(28,28)\n",
    "\n",
    "    avg_trous_vals_indiv = np.zeros(28)\n",
    "\n",
    "    for j in range(10,28):\n",
    "\n",
    "        for i in range(0,28):\n",
    "            indic = i % 28\n",
    "\n",
    "            avg_trous_vals_indiv[indic] += row_mat[j][i]\n",
    "    avg_trous_vals_indiv = avg_trous_vals_indiv/18\n",
    "    avg_trous_vals += avg_trous_vals_indiv\n",
    "\n",
    "avg_trous_vals = avg_trous_vals/12000\n"
   ]
  },
  {
   "cell_type": "code",
   "execution_count": 70,
   "metadata": {},
   "outputs": [],
   "source": [
    "avg_dress_vals = np.zeros(28)\n",
    "for row in dress_inds:\n",
    "\n",
    "    row_mat = np.copy(xc_train[row]).reshape(28,28)\n",
    "\n",
    "    avg_dress_vals_indiv = np.zeros(28)\n",
    "\n",
    "    for j in range(10,28):\n",
    "\n",
    "        for i in range(0,28):\n",
    "            indic = i % 28\n",
    "\n",
    "            avg_dress_vals_indiv[indic] += row_mat[j][i]\n",
    "    avg_dress_vals_indiv = avg_dress_vals_indiv/18\n",
    "    avg_dress_vals += avg_dress_vals_indiv\n",
    "\n",
    "avg_dress_vals = avg_dress_vals/12000\n"
   ]
  },
  {
   "cell_type": "code",
   "execution_count": 71,
   "metadata": {},
   "outputs": [
    {
     "data": {
      "image/png": "[encoded data removed]",
      "text/plain": [
       "<Figure size 432x288 with 1 Axes>"
      ]
     },
     "metadata": {
      "needs_background": "light"
     },
     "output_type": "display_data"
    }
   ],
   "source": [
    "#This is the plot of the average value at each column \n",
    "sns.lineplot(x=x_axis, y=avg_trous_vals)\n",
    "sns.lineplot(x=x_axis, y=avg_dress_vals)\n",
    "plt.legend(labels=['Trouser', 'Dress'])\n",
    "plt.show;"
   ]
  },
  {
   "cell_type": "code",
   "execution_count": 72,
   "metadata": {},
   "outputs": [],
   "source": [
    "#We should look at these plots for false positives and false negatives"
   ]
  },
  {
   "cell_type": "code",
   "execution_count": 73,
   "metadata": {},
   "outputs": [],
   "source": [
    "preds_full_data = base_c_reg_mod_lasso.predict(xc_train)"
   ]
  },
  {
   "cell_type": "code",
   "execution_count": 74,
   "metadata": {},
   "outputs": [
    {
     "data": {
      "text/plain": [
       "(24000,)"
      ]
     },
     "execution_count": 74,
     "metadata": {},
     "output_type": "execute_result"
    }
   ],
   "source": [
    "preds_full_data.shape"
   ]
  },
  {
   "cell_type": "code",
   "execution_count": 75,
   "metadata": {},
   "outputs": [],
   "source": [
    "false_pos_inds = list()\n",
    "false_neg_inds = list()\n",
    "\n",
    "for i in range(0,len(preds_full_data)):\n",
    "    if (preds_full_data[i] == 1) and (yc_train[i] == 0):\n",
    "        false_pos_inds.append(i)\n",
    "    elif (preds_full_data[i] == 0) and (yc_train[i] == 1):\n",
    "        false_neg_inds.append(i)\n",
    "    else:\n",
    "        pass\n"
   ]
  },
  {
   "cell_type": "code",
   "execution_count": 76,
   "metadata": {},
   "outputs": [],
   "source": [
    "avg_fp_vals = np.zeros(28)\n",
    "for row in false_pos_inds:\n",
    "\n",
    "    row_mat = np.copy(xc_train[row]).reshape(28,28)\n",
    "\n",
    "    avg_fp_vals_indiv = np.zeros(28)\n",
    "\n",
    "    for j in range(10,28):\n",
    "\n",
    "        for i in range(0,28):\n",
    "            indic = i % 28\n",
    "\n",
    "            avg_fp_vals_indiv[indic] += row_mat[j][i]\n",
    "    avg_fp_vals_indiv = avg_fp_vals_indiv/18\n",
    "    avg_fp_vals += avg_fp_vals_indiv\n",
    "\n",
    "avg_fp_vals = avg_fp_vals/len(false_pos_inds)\n"
   ]
  },
  {
   "cell_type": "code",
   "execution_count": 77,
   "metadata": {},
   "outputs": [],
   "source": [
    "avg_fn_vals = np.zeros(28)\n",
    "for row in false_neg_inds:\n",
    "\n",
    "    row_mat = np.copy(xc_train[row]).reshape(28,28)\n",
    "\n",
    "    avg_fn_vals_indiv = np.zeros(28)\n",
    "\n",
    "    for j in range(10,28):\n",
    "\n",
    "        for i in range(0,28):\n",
    "            indic = i % 28\n",
    "\n",
    "            avg_fn_vals_indiv[indic] += row_mat[j][i]\n",
    "    avg_fn_vals_indiv = avg_fn_vals_indiv/18\n",
    "    avg_fn_vals += avg_fn_vals_indiv\n",
    "\n",
    "avg_fn_vals = avg_fn_vals/len(false_neg_inds)\n"
   ]
  },
  {
   "cell_type": "code",
   "execution_count": 78,
   "metadata": {},
   "outputs": [
    {
     "data": {
      "image/png": "[encoded data removed]",
      "text/plain": [
       "<Figure size 432x288 with 1 Axes>"
      ]
     },
     "metadata": {
      "needs_background": "light"
     },
     "output_type": "display_data"
    }
   ],
   "source": [
    "#This is the plot of the average value at each column \n",
    "sns.lineplot(x=x_axis, y=avg_fn_vals)\n",
    "sns.lineplot(x=x_axis, y=avg_fp_vals)\n",
    "plt.ylabel('Average Pixel Value')\n",
    "plt.xlabel('Column of Image matrix')\n",
    "plt.title('Shape of last 18 rows for Errors')\n",
    "plt.legend(labels=['False Neg (actually trousers)','False Pos (actually Dress)'])\n",
    "plt.show;"
   ]
  },
  {
   "cell_type": "code",
   "execution_count": 79,
   "metadata": {},
   "outputs": [
    {
     "data": {
      "image/png": "[encoded data removed]",
      "text/plain": [
       "<Figure size 432x288 with 1 Axes>"
      ]
     },
     "metadata": {
      "needs_background": "light"
     },
     "output_type": "display_data"
    }
   ],
   "source": [
    "#This is the plot of the average value at each column \n",
    "sns.lineplot(x=x_axis, y=avg_trous_vals)\n",
    "sns.lineplot(x=x_axis, y=avg_dress_vals)\n",
    "plt.ylabel('Average Pixel Value')\n",
    "plt.xlabel('Column of Image matrix')\n",
    "plt.title('Shape of last 18 rows for All Data')\n",
    "plt.legend(labels=['Trouser', 'Dress'])\n",
    "plt.show;"
   ]
  },
  {
   "cell_type": "code",
   "execution_count": 80,
   "metadata": {},
   "outputs": [
    {
     "data": {
      "image/png": "[encoded data removed]",
      "text/plain": [
       "<Figure size 1440x720 with 4 Axes>"
      ]
     },
     "metadata": {
      "needs_background": "light"
     },
     "output_type": "display_data"
    }
   ],
   "source": [
    "fig = plt.figure(figsize=(20,10))\n",
    "rows = 2\n",
    "cols = 2\n",
    "\n",
    "fig.add_subplot(rows,cols,1)\n",
    "sns.lineplot(x=x_axis, y=avg_trous_vals)\n",
    "sns.lineplot(x=x_axis, y=avg_dress_vals)\n",
    "plt.ylabel('Average Pixel Value')\n",
    "plt.xlabel('Column of Image matrix')\n",
    "plt.ylim(bottom=.15, top =.60,)\n",
    "plt.title('Shape of last 18 rows for All Data')\n",
    "plt.legend(labels=['Trouser', 'Dress'])\n",
    "\n",
    "fig.add_subplot(rows,cols,2)\n",
    "sns.lineplot(x=x_axis, y=avg_fn_vals)\n",
    "sns.lineplot(x=x_axis, y=avg_fp_vals)\n",
    "plt.ylabel('Average Pixel Value')\n",
    "plt.xlabel('Column of Image matrix')\n",
    "plt.ylim(bottom=.15, top =.60,)\n",
    "plt.title('Shape of last 18 rows for Errors')\n",
    "plt.legend(labels=['False Neg (actually Trousers)','False Pos (actually Dress)'])\n",
    "\n",
    "\n",
    "fig.add_subplot(rows,cols,3)\n",
    "sns.lineplot(x=x_axis, y=avg_trous_vals)\n",
    "sns.lineplot(x=x_axis, y=avg_fp_vals)\n",
    "plt.ylabel('Average Pixel Value')\n",
    "plt.xlabel('Column of Image matrix')\n",
    "plt.ylim(bottom=.15, top =.60,)\n",
    "plt.title('Comparison of Trousers vs Dresses Mistaken for Trousers')\n",
    "plt.legend(labels=['Trouser', 'False Pos (actually Dress)'])\n",
    "\n",
    "fig.add_subplot(rows,cols,4)\n",
    "sns.lineplot(x=x_axis, y=avg_fn_vals)\n",
    "sns.lineplot(x=x_axis, y=avg_dress_vals)\n",
    "plt.ylabel('Average Pixel Value')\n",
    "plt.xlabel('Column of Image matrix')\n",
    "plt.ylim(bottom=.15, top =.60,)\n",
    "plt.title('Comparison of Dresses vs Trousers Mistaken for Dresses')\n",
    "plt.legend(labels=['False neg (actually Trousers)','Dresses' ])\n",
    "\n",
    "plt.show()\n"
   ]
  },
  {
   "cell_type": "code",
   "execution_count": 81,
   "metadata": {},
   "outputs": [],
   "source": [
    "#How can we transform features to help the algo see these differences?"
   ]
  },
  {
   "cell_type": "code",
   "execution_count": 82,
   "metadata": {},
   "outputs": [],
   "source": [
    "#To fix the false negs: if left, gap , right < .5 and abs(avg(left,right)/gap -1) < .05\n",
    "\n",
    "#To fix the false pos's: if left, gap , right < .45 and abs(avg(left,right)/gap -1) > .05\n"
   ]
  },
  {
   "cell_type": "code",
   "execution_count": 83,
   "metadata": {},
   "outputs": [],
   "source": [
    "#create the new features and add to the dataset\n",
    "#False neg fix will be column 0\n",
    "#False pos fix will be column 1"
   ]
  },
  {
   "cell_type": "code",
   "execution_count": 84,
   "metadata": {},
   "outputs": [],
   "source": [
    "new_feats = np.zeros(len(xc_train)*2).reshape(len(xc_train),2) \n",
    "left_leg_range = [9,10,11,12]\n",
    "gap_range = [13,14]\n",
    "right_leg_range = [15,16,17,18]\n",
    "\n",
    "for row in range(0,len(xc_train)):\n",
    "    test_row = np.copy(xc_train[row].reshape(28,28))\n",
    "    test_vals = np.zeros(28)\n",
    "\n",
    "    for j in range(10,len(test_row)):\n",
    "        for i in range(0,28):\n",
    "            ind = i % 28\n",
    "            test_vals[ind] += test_row[j][i] #add each row value to its spot in the test val array based on column\n",
    "    test_vals=test_vals/18   #divide by 18 to get the average of the 18 rows we looked at \n",
    "\n",
    "    left_max = 0\n",
    "    gap_min = 1\n",
    "    right_max = 0\n",
    "\n",
    "    for k in range(0,len(test_vals)):\n",
    "        if k in left_leg_range:\n",
    "            if test_vals[k] > left_max:\n",
    "                left_max = test_vals[k]\n",
    "        elif k in gap_range:\n",
    "            if test_vals[k] < gap_min:\n",
    "                gap_min = test_vals[k]\n",
    "        elif k in right_leg_range:\n",
    "            if test_vals[k] > right_max:\n",
    "                right_max = test_vals[k]\n",
    "        else:\n",
    "            pass\n",
    "    \n",
    "    fn_height_indicator = False\n",
    "    fn_gap_mag_indicator = False\n",
    "\n",
    "    if (left_max < .5) and (right_max < .5) and (gap_min < .5):\n",
    "        fn_height_indicator =True\n",
    "    \n",
    "        if abs(((right_max+left_max)/2) -gap_min) < .05:\n",
    "            fn_gap_mag_indicator = True\n",
    "    \n",
    "    if fn_height_indicator and fn_gap_mag_indicator:\n",
    "        new_feats[row][0] = 1\n",
    "\n",
    "    fp_height_indicator = False\n",
    "    fp_gap_mag_indicator = False\n",
    "\n",
    "    if (left_max < .45) and (right_max < .45) and (gap_min < .45):\n",
    "        fp_height_indicator =True\n",
    "    \n",
    "        if abs(((right_max+left_max)/2)-gap_min) > .05:\n",
    "            fp_gap_mag_indicator = True\n",
    "    \n",
    "    if fp_height_indicator and fp_gap_mag_indicator:\n",
    "        new_feats[row][1] = 1\n"
   ]
  },
  {
   "cell_type": "code",
   "execution_count": 85,
   "metadata": {},
   "outputs": [],
   "source": [
    "xc_f_train = np.hstack((xc_train,new_feats))\n"
   ]
  },
  {
   "cell_type": "code",
   "execution_count": 86,
   "metadata": {},
   "outputs": [
    {
     "name": "stdout",
     "output_type": "stream",
     "text": [
      "False Neg flags 586.0\n",
      "False Pos flags 1214.0\n"
     ]
    }
   ],
   "source": [
    "print('False Neg flags', sum(new_feats[:,0]))\n",
    "print('False Pos flags', sum(new_feats[:,1]))"
   ]
  },
  {
   "cell_type": "code",
   "execution_count": 87,
   "metadata": {},
   "outputs": [],
   "source": [
    "xc_f_train, xc_f_val, yc_f_train, yc_f_val = train_test_split(xc_f_train, yc_train, test_size=.25, random_state=1)"
   ]
  },
  {
   "cell_type": "code",
   "execution_count": 88,
   "metadata": {},
   "outputs": [
    {
     "data": {
      "text/plain": [
       "0.9495"
      ]
     },
     "execution_count": 88,
     "metadata": {},
     "output_type": "execute_result"
    }
   ],
   "source": [
    "base_c_reg_mod_lasso.fit(xc_f_train,yc_f_train)\n",
    "base_c_reg_mod_lasso.score(xc_f_val,yc_f_val)"
   ]
  },
  {
   "cell_type": "code",
   "execution_count": 89,
   "metadata": {},
   "outputs": [
    {
     "name": "stdout",
     "output_type": "stream",
     "text": [
      "[[-1.37509744 -0.96419142]]\n"
     ]
    }
   ],
   "source": [
    "coef_mat = base_c_reg_mod_lasso.coef_\n",
    "print(coef_mat[:,784:])"
   ]
  },
  {
   "cell_type": "code",
   "execution_count": 90,
   "metadata": {},
   "outputs": [
    {
     "data": {
      "text/plain": [
       "array([-0.46732767, -0.4993198 ])"
      ]
     },
     "execution_count": 90,
     "metadata": {},
     "output_type": "execute_result"
    }
   ],
   "source": [
    "coef_mat = coef_mat[:,0:784].reshape(28,28)\n",
    "coef_mat[26][13:15]"
   ]
  },
  {
   "cell_type": "code",
   "execution_count": 91,
   "metadata": {},
   "outputs": [
    {
     "data": {
      "image/png": "[encoded data removed]",
      "text/plain": [
       "<Figure size 432x288 with 1 Axes>"
      ]
     },
     "metadata": {
      "needs_background": "light"
     },
     "output_type": "display_data"
    }
   ],
   "source": [
    "plt.imshow(coef_mat, cmap='Spectral')\n",
    "plt.axis('off')\n",
    "plt.show;"
   ]
  },
  {
   "cell_type": "code",
   "execution_count": 92,
   "metadata": {},
   "outputs": [],
   "source": [
    "f_probas = base_c_reg_mod_lasso.predict_proba(xc_f_val)[:,1]"
   ]
  },
  {
   "cell_type": "code",
   "execution_count": 93,
   "metadata": {},
   "outputs": [
    {
     "name": "stdout",
     "output_type": "stream",
     "text": [
      "0.49966666666666665\n",
      "0.8063333333333333\n",
      "0.868\n",
      "0.8961666666666667\n",
      "0.9156666666666666\n",
      "0.9271666666666667\n",
      "0.9368333333333333\n",
      "0.9413333333333334\n",
      "0.9465\n",
      "0.9488333333333333\n",
      "0.9495\n",
      "0.9501666666666667\n",
      "0.9501666666666667\n",
      "0.9501666666666667\n",
      "0.9501666666666667\n",
      "0.9501666666666667\n",
      "0.9501666666666667\n",
      "0.9501666666666667\n",
      "0.9501666666666667\n",
      "0.9501666666666667\n",
      "0.9501666666666667\n",
      "11\n",
      "0.55\n"
     ]
    }
   ],
   "source": [
    "accuracy_list = list()\n",
    "for thresh in thresholds:\n",
    "    preds = list()\n",
    "    for prob in f_probas:\n",
    "        if prob >= thresh:\n",
    "            preds.append(1)\n",
    "        else:\n",
    "            preds.append(0)\n",
    "    TP = 0\n",
    "    TN = 0\n",
    "    FP = 0\n",
    "    FN = 0\n",
    "\n",
    "    for i in range(0,len(yc_f_val)):\n",
    "        if yc_f_val[i] == 1:\n",
    "            if preds[i] == 1:\n",
    "                TP += 1\n",
    "            else:\n",
    "                FN += 1\n",
    "        else:\n",
    "            if preds[i] == 0:\n",
    "                TN += 1\n",
    "            else:\n",
    "                FP += 1\n",
    "\n",
    "    acc = (TP+TN)/(len(yc_f_val))\n",
    "    accuracy_list.append(acc)\n",
    "\n",
    "    print(max(accuracy_list))\n",
    "print(np.argmax(accuracy_list))\n",
    "print(thresholds[np.argmax(accuracy_list)])"
   ]
  },
  {
   "cell_type": "code",
   "execution_count": null,
   "metadata": {},
   "outputs": [],
   "source": []
  },
  {
   "cell_type": "code",
   "execution_count": 94,
   "metadata": {},
   "outputs": [],
   "source": [
    "fprf, tprf, threshf = roc_curve(yc_f_val,f_probas)"
   ]
  },
  {
   "cell_type": "code",
   "execution_count": 95,
   "metadata": {},
   "outputs": [
    {
     "data": {
      "text/plain": [
       "0.9829509924226633"
      ]
     },
     "execution_count": 95,
     "metadata": {},
     "output_type": "execute_result"
    }
   ],
   "source": [
    "roc_auc_score(yc_f_val, f_probas)"
   ]
  },
  {
   "cell_type": "code",
   "execution_count": 96,
   "metadata": {},
   "outputs": [
    {
     "data": {
      "image/png": "[encoded data removed]",
      "text/plain": [
       "<Figure size 432x288 with 1 Axes>"
      ]
     },
     "metadata": {
      "needs_background": "light"
     },
     "output_type": "display_data"
    }
   ],
   "source": [
    "sns.lineplot(x=fprf, y=tprf, ci=None)\n",
    "sns.lineplot(x=fpr, y=tpr, ci= None)\n",
    "plt.legend(labels=('Added Feature','Base regularized model'))\n",
    "plt.show;"
   ]
  },
  {
   "cell_type": "code",
   "execution_count": 97,
   "metadata": {},
   "outputs": [
    {
     "data": {
      "text/html": [
       "<div>\n",
       "<style scoped>\n",
       "    .dataframe tbody tr th:only-of-type {\n",
       "        vertical-align: middle;\n",
       "    }\n",
       "\n",
       "    .dataframe tbody tr th {\n",
       "        vertical-align: top;\n",
       "    }\n",
       "\n",
       "    .dataframe thead th {\n",
       "        text-align: right;\n",
       "    }\n",
       "</style>\n",
       "<table border=\"1\" class=\"dataframe\">\n",
       "  <thead>\n",
       "    <tr style=\"text-align: right;\">\n",
       "      <th>Predicted</th>\n",
       "      <th>0</th>\n",
       "      <th>1</th>\n",
       "    </tr>\n",
       "    <tr>\n",
       "      <th>True</th>\n",
       "      <th></th>\n",
       "      <th></th>\n",
       "    </tr>\n",
       "  </thead>\n",
       "  <tbody>\n",
       "    <tr>\n",
       "      <th>0</th>\n",
       "      <td>2901</td>\n",
       "      <td>101</td>\n",
       "    </tr>\n",
       "    <tr>\n",
       "      <th>1</th>\n",
       "      <td>198</td>\n",
       "      <td>2800</td>\n",
       "    </tr>\n",
       "  </tbody>\n",
       "</table>\n",
       "</div>"
      ],
      "text/plain": [
       "Predicted     0     1\n",
       "True                 \n",
       "0          2901   101\n",
       "1           198  2800"
      ]
     },
     "execution_count": 97,
     "metadata": {},
     "output_type": "execute_result"
    }
   ],
   "source": [
    "calc_confusion_matrix_for_threshold(yc_f_val, f_probas, .55)"
   ]
  },
  {
   "cell_type": "code",
   "execution_count": 98,
   "metadata": {},
   "outputs": [
    {
     "data": {
      "text/html": [
       "<div>\n",
       "<style scoped>\n",
       "    .dataframe tbody tr th:only-of-type {\n",
       "        vertical-align: middle;\n",
       "    }\n",
       "\n",
       "    .dataframe tbody tr th {\n",
       "        vertical-align: top;\n",
       "    }\n",
       "\n",
       "    .dataframe thead th {\n",
       "        text-align: right;\n",
       "    }\n",
       "</style>\n",
       "<table border=\"1\" class=\"dataframe\">\n",
       "  <thead>\n",
       "    <tr style=\"text-align: right;\">\n",
       "      <th>Predicted</th>\n",
       "      <th>0</th>\n",
       "      <th>1</th>\n",
       "    </tr>\n",
       "    <tr>\n",
       "      <th>True</th>\n",
       "      <th></th>\n",
       "      <th></th>\n",
       "    </tr>\n",
       "  </thead>\n",
       "  <tbody>\n",
       "    <tr>\n",
       "      <th>0</th>\n",
       "      <td>2877</td>\n",
       "      <td>125</td>\n",
       "    </tr>\n",
       "    <tr>\n",
       "      <th>1</th>\n",
       "      <td>180</td>\n",
       "      <td>2818</td>\n",
       "    </tr>\n",
       "  </tbody>\n",
       "</table>\n",
       "</div>"
      ],
      "text/plain": [
       "Predicted     0     1\n",
       "True                 \n",
       "0          2877   125\n",
       "1           180  2818"
      ]
     },
     "execution_count": 98,
     "metadata": {},
     "output_type": "execute_result"
    }
   ],
   "source": [
    "calc_confusion_matrix_for_threshold(yc_val, base_c_pred_probs, .5)"
   ]
  },
  {
   "cell_type": "code",
   "execution_count": 99,
   "metadata": {},
   "outputs": [],
   "source": [
    "#It looks like this feature transformation made things worse"
   ]
  },
  {
   "cell_type": "code",
   "execution_count": 100,
   "metadata": {},
   "outputs": [],
   "source": [
    "#Trying to clean up the data itself"
   ]
  },
  {
   "cell_type": "code",
   "execution_count": 101,
   "metadata": {},
   "outputs": [],
   "source": [
    "xc_f_train_clean = np.copy(xc_f_train)\n",
    "xc_f_val_clean = np.copy(xc_f_val)"
   ]
  },
  {
   "cell_type": "code",
   "execution_count": 102,
   "metadata": {},
   "outputs": [],
   "source": [
    "for row in xc_f_train_clean:\n",
    "    cleanup(row)\n",
    "for row in xc_f_val_clean:\n",
    "    cleanup(row)"
   ]
  },
  {
   "cell_type": "code",
   "execution_count": 103,
   "metadata": {},
   "outputs": [
    {
     "name": "stdout",
     "output_type": "stream",
     "text": [
      "Cleanup of a Trouser image (top) and Dress image (bottom)\n"
     ]
    },
    {
     "data": {
      "image/png": "[encoded data removed]",
      "text/plain": [
       "<Figure size 720x720 with 4 Axes>"
      ]
     },
     "metadata": {
      "needs_background": "light"
     },
     "output_type": "display_data"
    }
   ],
   "source": [
    "fig = plt.figure(figsize=(10,10))\n",
    "rows = 2\n",
    "cols = 2\n",
    "\n",
    "fig.add_subplot(rows,cols,1)\n",
    "plt.imshow(xc_f_val[0][0:784].reshape(28,28), cmap='Spectral')\n",
    "plt.axis('off')\n",
    "\n",
    "\n",
    "fig.add_subplot(rows,cols,2)\n",
    "plt.imshow(xc_f_val_clean[0][0:784].reshape(28,28), cmap='Spectral')\n",
    "plt.axis('off')\n",
    "\n",
    "\n",
    "fig.add_subplot(rows,cols,3)\n",
    "plt.imshow(xc_f_val[1][0:784].reshape(28,28), cmap='Spectral')\n",
    "plt.axis('off')\n",
    "\n",
    "\n",
    "fig.add_subplot(rows,cols,4)\n",
    "plt.imshow(xc_f_val_clean[1][0:784].reshape(28,28), cmap='Spectral')\n",
    "plt.axis('off')\n",
    "\n",
    "print('Cleanup of a Trouser image (top) and Dress image (bottom)')\n",
    "plt.tight_layout()\n",
    "plt.show;\n",
    "\n",
    "\n",
    "\n",
    "\n"
   ]
  },
  {
   "cell_type": "code",
   "execution_count": 104,
   "metadata": {},
   "outputs": [
    {
     "data": {
      "text/plain": [
       "0.9445"
      ]
     },
     "execution_count": 104,
     "metadata": {},
     "output_type": "execute_result"
    }
   ],
   "source": [
    "base_c_reg_mod_lasso.fit(xc_f_train_clean,yc_f_train)\n",
    "base_c_reg_mod_lasso.score(xc_f_val_clean,yc_f_val)"
   ]
  },
  {
   "cell_type": "code",
   "execution_count": 105,
   "metadata": {},
   "outputs": [],
   "source": [
    "f_clean_probas = base_c_reg_mod_lasso.predict_proba(xc_f_val_clean)[:,1]"
   ]
  },
  {
   "cell_type": "code",
   "execution_count": 106,
   "metadata": {},
   "outputs": [
    {
     "name": "stdout",
     "output_type": "stream",
     "text": [
      "0.9445\n",
      "10\n",
      "0.5\n"
     ]
    }
   ],
   "source": [
    "accuracy_list = list()\n",
    "for thresh in thresholds:\n",
    "    preds = list()\n",
    "    for prob in f_clean_probas:\n",
    "        if prob >= thresh:\n",
    "            preds.append(1)\n",
    "        else:\n",
    "            preds.append(0)\n",
    "    TP = 0\n",
    "    TN = 0\n",
    "    FP = 0\n",
    "    FN = 0\n",
    "\n",
    "    for i in range(0,len(yc_f_val)):\n",
    "        if yc_f_val[i] == 1:\n",
    "            if preds[i] == 1:\n",
    "                TP += 1\n",
    "            else:\n",
    "                FN += 1\n",
    "        else:\n",
    "            if preds[i] == 0:\n",
    "                TN += 1\n",
    "            else:\n",
    "                FP += 1\n",
    "\n",
    "    acc = (TP+TN)/(len(yc_f_val))\n",
    "    accuracy_list.append(acc)\n",
    "\n",
    "print(max(accuracy_list))\n",
    "print(np.argmax(accuracy_list))\n",
    "print(thresholds[np.argmax(accuracy_list)])"
   ]
  },
  {
   "cell_type": "code",
   "execution_count": 107,
   "metadata": {},
   "outputs": [
    {
     "data": {
      "text/html": [
       "<div>\n",
       "<style scoped>\n",
       "    .dataframe tbody tr th:only-of-type {\n",
       "        vertical-align: middle;\n",
       "    }\n",
       "\n",
       "    .dataframe tbody tr th {\n",
       "        vertical-align: top;\n",
       "    }\n",
       "\n",
       "    .dataframe thead th {\n",
       "        text-align: right;\n",
       "    }\n",
       "</style>\n",
       "<table border=\"1\" class=\"dataframe\">\n",
       "  <thead>\n",
       "    <tr style=\"text-align: right;\">\n",
       "      <th>Predicted</th>\n",
       "      <th>0</th>\n",
       "      <th>1</th>\n",
       "    </tr>\n",
       "    <tr>\n",
       "      <th>True</th>\n",
       "      <th></th>\n",
       "      <th></th>\n",
       "    </tr>\n",
       "  </thead>\n",
       "  <tbody>\n",
       "    <tr>\n",
       "      <th>0</th>\n",
       "      <td>2870</td>\n",
       "      <td>132</td>\n",
       "    </tr>\n",
       "    <tr>\n",
       "      <th>1</th>\n",
       "      <td>201</td>\n",
       "      <td>2797</td>\n",
       "    </tr>\n",
       "  </tbody>\n",
       "</table>\n",
       "</div>"
      ],
      "text/plain": [
       "Predicted     0     1\n",
       "True                 \n",
       "0          2870   132\n",
       "1           201  2797"
      ]
     },
     "execution_count": 107,
     "metadata": {},
     "output_type": "execute_result"
    }
   ],
   "source": [
    "calc_confusion_matrix_for_threshold(yc_f_val, f_clean_probas, .5)"
   ]
  },
  {
   "cell_type": "code",
   "execution_count": null,
   "metadata": {},
   "outputs": [],
   "source": []
  },
  {
   "cell_type": "code",
   "execution_count": 108,
   "metadata": {},
   "outputs": [
    {
     "name": "stdout",
     "output_type": "stream",
     "text": [
      "[0.         0.03703704 0.07407407 0.11111111 0.14814815 0.18518519\n",
      " 0.22222222 0.25925926 0.2962963  0.33333333 0.37037037 0.40740741\n",
      " 0.44444444 0.48148148 0.51851852 0.55555556 0.59259259 0.62962963\n",
      " 0.66666667 0.7037037  0.74074074 0.77777778 0.81481481 0.85185185\n",
      " 0.88888889 0.92592593 0.96296296 1.        ]\n"
     ]
    },
    {
     "data": {
      "image/png": "[encoded data removed]",
      "text/plain": [
       "<Figure size 432x288 with 1 Axes>"
      ]
     },
     "metadata": {
      "needs_background": "light"
     },
     "output_type": "display_data"
    }
   ],
   "source": [
    "color_map = np.ones(28*28).reshape(28,28)\n",
    "colors = np.linspace(0,1,28)\n",
    "for row in range(0,len(color_map)):\n",
    "    color_map[row]=color_map[row] * colors[row]\n",
    "\n",
    "plt.imshow(color_map, cmap='Spectral')\n",
    "plt.show;\n",
    "\n",
    "print(colors)"
   ]
  },
  {
   "cell_type": "code",
   "execution_count": 109,
   "metadata": {},
   "outputs": [],
   "source": [
    "#Final model to f with"
   ]
  },
  {
   "cell_type": "code",
   "execution_count": 110,
   "metadata": {},
   "outputs": [],
   "source": [
    "xc_train = np.loadtxt(\"C:\\\\Users\\\\Joe\\Desktop\\\\Tufts Fall 2022\\\\CS 135\\\\project01\\\\data_trouser_dress\\\\troudress_train_x.csv\", delimiter=',', skiprows=1)\n",
    "xc_test = np.loadtxt(\"C:\\\\Users\\\\Joe\\Desktop\\\\Tufts Fall 2022\\\\CS 135\\\\project01\\\\data_trouser_dress\\\\troudress_test_x.csv\", delimiter=',', skiprows=1)\n",
    "yc_train = np.loadtxt(\"C:\\\\Users\\\\Joe\\Desktop\\\\Tufts Fall 2022\\\\CS 135\\\\project01\\\\data_trouser_dress\\\\troudress_train_y.csv\", delimiter=',', skiprows=1)"
   ]
  },
  {
   "cell_type": "code",
   "execution_count": 111,
   "metadata": {},
   "outputs": [],
   "source": [
    "for big_row in range(0, len(xc_train)):\n",
    "    row_mat = np.copy(xc_train[big_row].reshape(28,28))\n",
    "\n",
    "    for row in range(0,len(row_mat)):\n",
    "        row_mat[row] = row_mat[row][::-1]\n",
    "    \n",
    "    flip_row = row_mat.reshape(1,784)\n",
    "    flip_train[big_row] = flip_row\n",
    "xc_train = np.vstack((xc_train,flip_train))\n",
    "yc_train = np.hstack((yc_train,yc_train))"
   ]
  },
  {
   "cell_type": "code",
   "execution_count": 124,
   "metadata": {},
   "outputs": [],
   "source": [
    "base_c_reg_mod_lasso = LogisticRegressionCV(solver='liblinear', penalty='l1', Cs=C_grid, cv=10,random_state = 1, max_iter=200)\n",
    "base_c_reg_mod_lasso.fit(xc_train, yc_train)\n",
    "base_c_preds = base_c_reg_mod_lasso.predict(xc_train)"
   ]
  },
  {
   "cell_type": "code",
   "execution_count": 126,
   "metadata": {},
   "outputs": [
    {
     "name": "stdout",
     "output_type": "stream",
     "text": [
      "0.9532916666666666\n",
      "1.6132635732810914\n"
     ]
    }
   ],
   "source": [
    "acc = base_c_reg_mod_lasso.score(xc_train,yc_train)\n",
    "cll = log_loss(yc_train, base_c_preds)\n",
    "print(acc)\n",
    "print(cll)"
   ]
  },
  {
   "cell_type": "code",
   "execution_count": 127,
   "metadata": {},
   "outputs": [],
   "source": [
    "final_pred_probas = base_c_reg_mod_lasso.predict_proba(xc_train)[:,1]"
   ]
  },
  {
   "cell_type": "code",
   "execution_count": 128,
   "metadata": {},
   "outputs": [],
   "source": [
    "accuracy_list = list()\n",
    "for thresh in thresholds:\n",
    "    preds = list()\n",
    "    for prob in final_pred_probas:\n",
    "        if prob >= thresh:\n",
    "            preds.append(1)\n",
    "        else:\n",
    "            preds.append(0)\n",
    "    TP = 0\n",
    "    TN = 0\n",
    "    FP = 0\n",
    "    FN = 0\n",
    "\n",
    "    for i in range(0,len(yc_train)):\n",
    "        if yc_train[i] == 1:\n",
    "            if preds[i] == 1:\n",
    "                TP += 1\n",
    "            else:\n",
    "                FN += 1\n",
    "        else:\n",
    "            if preds[i] == 0:\n",
    "                TN += 1\n",
    "            else:\n",
    "                FP += 1\n",
    "\n",
    "    acc = (TP+TN)/(len(yc_train))\n",
    "    accuracy_list.append(acc)"
   ]
  },
  {
   "cell_type": "code",
   "execution_count": 129,
   "metadata": {},
   "outputs": [
    {
     "name": "stdout",
     "output_type": "stream",
     "text": [
      "[0.5, 0.8161666666666667, 0.8789166666666667, 0.9077916666666667, 0.9246666666666666, 0.936, 0.94325, 0.9504166666666667, 0.9517916666666667, 0.9535, 0.9532916666666666, 0.95325, 0.9534583333333333, 0.9500416666666667, 0.9461666666666667, 0.9400416666666667, 0.9332916666666666, 0.9222083333333333, 0.9031666666666667, 0.8692083333333334, 0.5]\n",
      "0.9535\n"
     ]
    },
    {
     "data": {
      "text/plain": [
       "0.45"
      ]
     },
     "execution_count": 129,
     "metadata": {},
     "output_type": "execute_result"
    }
   ],
   "source": [
    "print(accuracy_list)\n",
    "print(max(accuracy_list))\n",
    "#print(len(accuracy_list))\n",
    "#print(len(thresholds))\n",
    "thresholds[np.argmax(accuracy_list)]"
   ]
  },
  {
   "cell_type": "code",
   "execution_count": 117,
   "metadata": {},
   "outputs": [],
   "source": [
    "test_pred_probas = base_c_reg_mod_lasso.predict_proba(xc_test)[:,1]"
   ]
  },
  {
   "cell_type": "code",
   "execution_count": 118,
   "metadata": {},
   "outputs": [],
   "source": [
    "test_preds = list()\n",
    "for prob in test_pred_probas:\n",
    "    if prob >= 0.45:\n",
    "        test_preds.append(1)\n",
    "    else:\n",
    "        test_preds.append(0)"
   ]
  },
  {
   "cell_type": "code",
   "execution_count": 119,
   "metadata": {},
   "outputs": [
    {
     "name": "stdout",
     "output_type": "stream",
     "text": [
      "2000\n"
     ]
    },
    {
     "data": {
      "text/plain": [
       "2000"
      ]
     },
     "execution_count": 119,
     "metadata": {},
     "output_type": "execute_result"
    }
   ],
   "source": [
    "print(len(xc_test))\n",
    "len(test_preds)"
   ]
  },
  {
   "cell_type": "code",
   "execution_count": 120,
   "metadata": {},
   "outputs": [],
   "source": [
    "yproba1_test = base_c_reg_mod_lasso.predict_proba(xc_test)[:, 1]\n",
    "np.savetxt('yproba1_test.txt', yproba1_test)"
   ]
  },
  {
   "cell_type": "code",
   "execution_count": 121,
   "metadata": {},
   "outputs": [
    {
     "data": {
      "text/plain": [
       "2000"
      ]
     },
     "execution_count": 121,
     "metadata": {},
     "output_type": "execute_result"
    }
   ],
   "source": [
    "len(yproba1_test)"
   ]
  },
  {
   "cell_type": "code",
   "execution_count": 123,
   "metadata": {},
   "outputs": [
    {
     "data": {
      "text/plain": [
       "0.942"
      ]
     },
     "execution_count": 123,
     "metadata": {},
     "output_type": "execute_result"
    }
   ],
   "source": [
    "1-.058"
   ]
  },
  {
   "cell_type": "code",
   "execution_count": 130,
   "metadata": {},
   "outputs": [],
   "source": [
    "xc_test_clean = np.copy(xc_test)\n",
    "for row in xc_test_clean:\n",
    "    cleanup(row)\n",
    "    "
   ]
  },
  {
   "cell_type": "code",
   "execution_count": 133,
   "metadata": {},
   "outputs": [],
   "source": [
    "yproba1_test = base_c_reg_mod_lasso.predict_proba(xc_test_clean)[:, 1]\n",
    "np.savetxt('yproba1_test.txt', yproba1_test)"
   ]
  },
  {
   "cell_type": "code",
   "execution_count": 37,
   "metadata": {},
   "outputs": [],
   "source": [
    "xc_train = np.loadtxt(\"C:\\\\Users\\\\Joe\\Desktop\\\\Tufts Fall 2022\\\\CS 135\\\\project01\\\\data_trouser_dress\\\\troudress_train_x.csv\", delimiter=',', skiprows=1)\n",
    "xc_test = np.loadtxt(\"C:\\\\Users\\\\Joe\\Desktop\\\\Tufts Fall 2022\\\\CS 135\\\\project01\\\\data_trouser_dress\\\\troudress_test_x.csv\", delimiter=',', skiprows=1)\n",
    "yc_train = np.loadtxt(\"C:\\\\Users\\\\Joe\\Desktop\\\\Tufts Fall 2022\\\\CS 135\\\\project01\\\\data_trouser_dress\\\\troudress_train_y.csv\", delimiter=',', skiprows=1)"
   ]
  },
  {
   "cell_type": "code",
   "execution_count": 38,
   "metadata": {},
   "outputs": [],
   "source": [
    "import tensorflow as tf"
   ]
  },
  {
   "cell_type": "code",
   "execution_count": 39,
   "metadata": {},
   "outputs": [],
   "source": [
    "flip_train = np.ones(len(xc_train)*len(xc_train[0])).reshape(len(xc_train),len(xc_train[0]))"
   ]
  },
  {
   "cell_type": "code",
   "execution_count": 40,
   "metadata": {},
   "outputs": [],
   "source": [
    "for big_row in range(0, len(xc_train)):\n",
    "    row_mat = np.copy(xc_train[big_row].reshape(28,28))\n",
    "\n",
    "    for row in range(0,len(row_mat)):\n",
    "        row_mat[row] = row_mat[row][::-1]\n",
    "    \n",
    "    flip_row = row_mat.reshape(1,784)\n",
    "    flip_train[big_row] = flip_row\n"
   ]
  },
  {
   "cell_type": "code",
   "execution_count": 41,
   "metadata": {},
   "outputs": [],
   "source": [
    "#Combining the data\n",
    "\n",
    "xc_train = np.vstack((xc_train,flip_train))\n",
    "yc_train = np.hstack((yc_train,yc_train))"
   ]
  },
  {
   "cell_type": "code",
   "execution_count": 48,
   "metadata": {},
   "outputs": [
    {
     "data": {
      "text/plain": [
       "(784,)"
      ]
     },
     "execution_count": 48,
     "metadata": {},
     "output_type": "execute_result"
    }
   ],
   "source": [
    "xc_train[0].shape"
   ]
  },
  {
   "cell_type": "code",
   "execution_count": 51,
   "metadata": {},
   "outputs": [
    {
     "data": {
      "text/plain": [
       "(24000, 784)"
      ]
     },
     "execution_count": 51,
     "metadata": {},
     "output_type": "execute_result"
    }
   ],
   "source": [
    "from scipy import ndimage\n",
    "xc_blur.shape"
   ]
  },
  {
   "cell_type": "code",
   "execution_count": 52,
   "metadata": {},
   "outputs": [],
   "source": [
    "xc_blur = np.copy(xc_train)\n",
    "for i in range(0,len(xc_blur)):\n",
    "    cleanup(xc_blur[i])\n",
    "    xc_blur[i] = xc_blur[i].reshape(28,28)\n",
    "    xc_blur[i] = ndimage.gaussian_filter(xc_blur[i],1)\n",
    "    xc_blur[i] = xc_blur[i].reshape(784)\n",
    "\n"
   ]
  },
  {
   "cell_type": "code",
   "execution_count": 53,
   "metadata": {},
   "outputs": [],
   "source": [
    "xc_blur = xc_blur.reshape(24000,28,28)"
   ]
  },
  {
   "cell_type": "code",
   "execution_count": 54,
   "metadata": {},
   "outputs": [],
   "source": [
    "for i in range(0,len(xc_blur)):\n",
    "    xc_blur[i] = ndimage.gaussian_filter(xc_blur[i],1)\n",
    "\n",
    "xc_blur = xc_blur.reshape(24000,784)\n"
   ]
  },
  {
   "cell_type": "code",
   "execution_count": 60,
   "metadata": {},
   "outputs": [
    {
     "data": {
      "text/plain": [
       "<matplotlib.image.AxesImage at 0x1ff16f96f80>"
      ]
     },
     "execution_count": 60,
     "metadata": {},
     "output_type": "execute_result"
    },
    {
     "data": {
      "image/png": "[encoded data removed]",
      "text/plain": [
       "<Figure size 432x288 with 1 Axes>"
      ]
     },
     "metadata": {
      "needs_background": "light"
     },
     "output_type": "display_data"
    }
   ],
   "source": [
    "plt.imshow(xc_blur[142].reshape(28,28))"
   ]
  },
  {
   "cell_type": "code",
   "execution_count": 63,
   "metadata": {},
   "outputs": [],
   "source": [
    "C_grid = np.logspace(-5,3,16)"
   ]
  },
  {
   "cell_type": "code",
   "execution_count": 65,
   "metadata": {},
   "outputs": [],
   "source": [
    "from sklearn.linear_model import LogisticRegressionCV"
   ]
  },
  {
   "cell_type": "code",
   "execution_count": 66,
   "metadata": {},
   "outputs": [],
   "source": [
    "lasso_blur_mod = LogisticRegressionCV(solver='liblinear', penalty='l1', Cs=C_grid, random_state = 1, max_iter=200)"
   ]
  },
  {
   "cell_type": "code",
   "execution_count": 67,
   "metadata": {},
   "outputs": [],
   "source": [
    "lasso_blur_mod.fit(xc_blur, yc_train)"
   ]
  },
  {
   "cell_type": "code",
   "execution_count": null,
   "metadata": {},
   "outputs": [],
   "source": [
    "lasso_blur_mod.score(xc_blur,yc_train)"
   ]
  },
  {
   "cell_type": "code",
   "execution_count": null,
   "metadata": {},
   "outputs": [],
   "source": []
  }
 ],
 "metadata": {
  "kernelspec": {
   "display_name": "Python 3.10.8 64-bit (microsoft store)",
   "language": "python",
   "name": "python3"
  },
  "language_info": {
   "codemirror_mode": {
    "name": "ipython",
    "version": 3
   },
   "file_extension": ".py",
   "mimetype": "text/x-python",
   "name": "python",
   "nbconvert_exporter": "python",
   "pygments_lexer": "ipython3",
   "version": "3.10.8"
  },
  "orig_nbformat": 4,
  "vscode": {
   "interpreter": {
    "hash": "eb248a45c5851c61d411cc68a924ee8e71b7da6271e788b4168c3f15db8ceb03"
   }
  }
 },
 "nbformat": 4,
 "nbformat_minor": 2
}
